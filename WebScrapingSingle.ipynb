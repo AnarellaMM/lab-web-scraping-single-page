{
 "cells": [
  {
   "cell_type": "markdown",
   "id": "df8281ae-e9ae-46eb-9961-cfa2ef2442b9",
   "metadata": {},
   "source": [
    "**<font size=\"5\">Lab | Web Scraping Single Page</font>** "
   ]
  },
  {
   "cell_type": "markdown",
   "id": "ee00f277-d8c5-4c7f-9a8d-0ec1d4257987",
   "metadata": {},
   "source": [
    "**HTTP GET request to the Billboard Hot 100 URL and retrieve the webpage content:**"
   ]
  },
  {
   "cell_type": "code",
   "execution_count": 41,
   "id": "1a81a887-73fc-46a9-9b82-91ce87783705",
   "metadata": {},
   "outputs": [],
   "source": [
    "import requests\n",
    "import pandas as pd\n",
    "from bs4 import BeautifulSoup\n",
    "\n",
    "response = requests.get(\"https://www.billboard.com/charts/hot-100/\")\n",
    "\n",
    "if response.status_code == 200:\n",
    "  soup = BeautifulSoup(response.content, \"html.parser\")"
   ]
  },
  {
   "cell_type": "markdown",
   "id": "7991e8f5-d85b-4a0e-b26c-71576977016f",
   "metadata": {},
   "source": [
    "**Extract Artists Names:**"
   ]
  },
  {
   "cell_type": "code",
   "execution_count": 42,
   "id": "f81f92ca-3af5-4a70-8b85-cc55090b72f9",
   "metadata": {},
   "outputs": [
    {
     "name": "stdout",
     "output_type": "stream",
     "text": [
      "Artist Names: ['Zach Bryan Featuring Kacey Musgraves', 'Luke Combs', 'Doja Cat', 'Morgan Wallen', 'Taylor Swift', 'Oliver Anthony Music', 'SZA', 'Miley Cyrus', 'Dua Lipa', 'Gunna', 'Rema & Selena Gomez', 'Olivia Rodrigo', 'Nicki Minaj & Ice Spice With Aqua', 'Zach Bryan Featuring The War And Treaty', 'Miley Cyrus', 'Lil Durk Featuring J. Cole', 'Zach Bryan Featuring The Lumineers', 'Zach Bryan', 'Selena Gomez', 'Zach Bryan', 'Bailey Zimmerman', 'Zach Bryan', 'Zach Bryan', 'Zach Bryan', 'Taylor Swift Featuring Ice Spice', 'Jelly Roll', 'SZA', 'Jung Kook Featuring Latto', 'Zach Bryan', 'Billie Eilish', 'Zach Bryan', 'Taylor Swift', 'Metro Boomin, The Weeknd & 21 Savage', 'Morgan Wallen', 'Olivia Rodrigo', 'Travis Scott Featuring Drake', 'Zach Bryan Featuring Sierra Ferrell', 'Zach Bryan', 'Zach Bryan', 'Luke Combs', 'Zach Bryan', 'Noah Kahan With Post Malone', 'Karol G & Peso Pluma', 'Zach Bryan', 'Jason Aldean', 'Lainey Wilson', 'Zach Bryan', 'Fifty Fifty', 'Travis Scott', 'Karol G', 'Kane Brown', 'David Kushner', 'Doechii Featuring Kodak Black', 'Myke Towers', 'Travis Scott Featuring SZA & Future', 'Peso Pluma, Gabito Ballesteros & Junior H', 'Grupo Frontera X Bad Bunny', 'Travis Scott Featuring Playboi Carti', 'Young Nudy Featuring 21 Savage', 'Latto Featuring Cardi B', 'Post Malone', 'Tim McGraw', 'Chris Stapleton', 'Ice Spice', 'Usher, Summer Walker & 21 Savage', 'Bad Bunny', 'Travis Scott, Bad Bunny & The Weeknd', 'HARDY', 'Ice Spice & Nicki Minaj', 'Peso Pluma & Grupo Frontera', 'The Weeknd, Playboi Carti & Madonna', 'Jon Pardi', 'Morgan Wallen', 'Fuerza Regida', 'That Mexican OT, Paul Wall & DRODi', 'Zach Bryan Featuring Maggie Rogers', 'Thomas Rhett', 'DaBaby', 'Kaliii', 'Burna Boy', 'Young Thug Featuring Drake', 'Teddy Swims', 'Tyler Childers', 'Jelly Roll With Lainey Wilson', 'Rod Wave', 'Karol G', 'Tyler, The Creator Featuring Kali Uchis', 'Zach Bryan', 'Miley Cyrus', 'Karol G', 'Fuerza Regida', 'Warren Zeiders', 'Lil Durk Featuring Morgan Wallen', 'Gucci Mane Featuring J. Cole & Mike WiLL Made-It', 'NewJeans', 'Chris Brown', 'Carin Leon', 'Victoria Monet', 'Parmalee', 'Peso Pluma']\n"
     ]
    }
   ],
   "source": [
    "artists_99 = [element.get_text(strip=True) for element in soup.find_all(\"span\", attrs={\"class\": \"c-label a-no-trucate a-font-primary-s lrv-u-font-size-14@mobile-max u-line-height-normal@mobile-max u-letter-spacing-0021 lrv-u-display-block a-truncate-ellipsis-2line u-max-width-330 u-max-width-230@tablet-only\"})]\n",
    "first_artist = soup.find(\"p\", attrs={\"class\": \"c-tagline a-font-primary-l a-font-primary-m@mobile-max lrv-u-color-black u-color-white@mobile-max lrv-u-margin-tb-00 lrv-u-padding-t-025 lrv-u-margin-r-150\"}).get_text(strip=True)\n",
    "artist_names = [first_artist] + artists_99\n",
    "print(\"Artist Names:\", artist_names)"
   ]
  },
  {
   "cell_type": "markdown",
   "id": "4ecc658e-a0d7-4db6-8251-1826bb45ae32",
   "metadata": {},
   "source": [
    "**Extract Song Names:**"
   ]
  },
  {
   "cell_type": "code",
   "execution_count": 43,
   "id": "3785c5bb-e9eb-4a1f-90a2-0009ba71c5cb",
   "metadata": {},
   "outputs": [
    {
     "name": "stdout",
     "output_type": "stream",
     "text": [
      "Song Names: ['I Remember Everything', 'Fast Car', 'Paint The Town Red', 'Last Night', 'Cruel Summer', 'Rich Men North Of Richmond', 'Snooze', 'Used To Be Young', 'Dance The Night', 'Fukumean', 'Calm Down', 'Vampire', 'Barbie World', 'Hey Driver', 'Flowers', 'All My Life', 'Spotless', 'East Side Of Sorrow', 'Single Soon', 'Tourniquet', 'Religiously', 'Overtime', \"Summertime's Close\", \"Fear And Friday's\", 'Karma', 'Need A Favor', 'Kill Bill', 'Seven', 'Ticking', 'What Was I Made For?', 'El Dorado', 'Anti-Hero', \"Creepin'\", \"Thinkin' Bout Me\", 'Bad Idea Right?', 'Meltdown', 'Holy Roller', 'Smaller Acts', \"Fear And Friday's (Poem)\", 'Love You Anyway', \"Jake's Piano - Long Island\", 'Dial Drunk', 'Qlona', 'Tradesman', 'Try That In A Small Town', 'Watermelon Moonshine', 'Oklahoman Son', 'Cupid', 'I Know ?', 'Mi Ex Tenia Razon', 'Bury Me In Georgia', 'Daylight', 'What It Is (Block Boy)', 'LaLa', 'Telekinesis', 'Lady Gaga', 'Un x100to', 'FE!N', 'Peaches & Eggplants', 'Put It On Da Floor Again', 'Chemical', 'Standing Room Only', 'White Horse', 'Deli', 'Good Good', 'Where She Goes', 'K-POP', 'Truck Bed', 'Princess Diana', 'Tulum', 'Popular', 'Your Heart Or Mine', 'Everything I Love', 'Sabor Fresa', 'Johnny Dang', 'Dawns', \"Angels Don't Always Have Wings\", 'Shake Sumn', 'Area Codes', \"Sittin' On Top Of The World\", 'Oh U Went', 'Lose Control', 'In Your Love', 'Save Me', 'Call Your Friends', 'S91', 'See You Again', 'Oklahoma Smoke Show', 'Jaded', 'Amargura', 'TQM', 'Pretty Little Poison', 'Stand By Me', 'There I Go', 'Super Shy', 'Summer Too Hot', 'Primera Cita', 'On My Mama', 'Girl In Mine', 'Rubicon']\n"
     ]
    }
   ],
   "source": [
    "songs_99 = [element.get_text(strip=True) for element in soup.find_all(\"h3\", attrs={\"class\": \"c-title a-no-trucate a-font-primary-bold-s u-letter-spacing-0021 lrv-u-font-size-18@tablet lrv-u-font-size-16 u-line-height-125 u-line-height-normal@mobile-max a-truncate-ellipsis u-max-width-330 u-max-width-230@tablet-only\"})]\n",
    "first_song = soup.find(\"h3\", attrs={\"class\": \"c-title a-no-trucate a-font-primary-bold-s u-letter-spacing-0021 u-font-size-23@tablet lrv-u-font-size-16 u-line-height-125 u-line-height-normal@mobile-max a-truncate-ellipsis u-max-width-245 u-max-width-230@tablet-only u-letter-spacing-0028@tablet\"}).get_text(strip=True)\n",
    "song_names = [first_song] + songs_99\n",
    "print(\"Song Names:\", song_names)"
   ]
  },
  {
   "cell_type": "code",
   "execution_count": 52,
   "id": "f3f10a41-b118-4a6b-9216-b4b71d7af1a1",
   "metadata": {},
   "outputs": [
    {
     "ename": "TypeError",
     "evalue": "cannot unpack non-iterable NoneType object",
     "output_type": "error",
     "traceback": [
      "\u001b[0;31m---------------------------------------------------------------------------\u001b[0m",
      "\u001b[0;31mTypeError\u001b[0m                                 Traceback (most recent call last)",
      "Cell \u001b[0;32mIn[52], line 17\u001b[0m\n\u001b[1;32m     14\u001b[0m         \u001b[38;5;28mprint\u001b[39m(\u001b[38;5;124m\"\u001b[39m\u001b[38;5;124mData retrieval failed.\u001b[39m\u001b[38;5;124m\"\u001b[39m)\n\u001b[1;32m     16\u001b[0m \u001b[38;5;28;01mif\u001b[39;00m \u001b[38;5;18m__name__\u001b[39m \u001b[38;5;241m==\u001b[39m \u001b[38;5;124m\"\u001b[39m\u001b[38;5;124m__main__\u001b[39m\u001b[38;5;124m\"\u001b[39m:\n\u001b[0;32m---> 17\u001b[0m     \u001b[43mmain\u001b[49m\u001b[43m(\u001b[49m\u001b[43m)\u001b[49m\n",
      "Cell \u001b[0;32mIn[52], line 10\u001b[0m, in \u001b[0;36mmain\u001b[0;34m()\u001b[0m\n\u001b[1;32m      7\u001b[0m data \u001b[38;5;241m=\u001b[39m fetch_billboard_data(url)\n\u001b[1;32m      9\u001b[0m \u001b[38;5;28;01mif\u001b[39;00m data:\n\u001b[0;32m---> 10\u001b[0m     artist_names, song_names \u001b[38;5;241m=\u001b[39m parse_billboard_data(data)\n\u001b[1;32m     11\u001b[0m     bill100 \u001b[38;5;241m=\u001b[39m create_dataframe(artist_names, song_names)\n\u001b[1;32m     12\u001b[0m     \u001b[38;5;28mprint\u001b[39m(bill100)\n",
      "\u001b[0;31mTypeError\u001b[0m: cannot unpack non-iterable NoneType object"
     ]
    }
   ],
   "source": [
    "def create_dataframe(artist_names, song_names):\n",
    "    bill100 = pd.DataFrame({'Artists': artist_names, 'Songs': song_names})\n",
    "    return(bill100)\n",
    "\n",
    "def main():\n",
    "    url = \"https://www.billboard.com/charts/hot-100/\"\n",
    "    data = fetch_billboard_data(url)\n",
    "    \n",
    "    if data:\n",
    "        artist_names, song_names = parse_billboard_data(data)\n",
    "        bill100 = create_dataframe(artist_names, song_names)\n",
    "        print(bill100)\n",
    "    else:\n",
    "        print(\"Data retrieval failed.\")\n",
    "\n",
    "if __name__ == \"__main__\":\n",
    "    main()"
   ]
  },
  {
   "cell_type": "code",
   "execution_count": null,
   "id": "53e6cc58-8ae4-45a2-bdd5-4c0fb70fd874",
   "metadata": {},
   "outputs": [],
   "source": []
  }
 ],
 "metadata": {
  "kernelspec": {
   "display_name": "Python 3 (ipykernel)",
   "language": "python",
   "name": "python3"
  },
  "language_info": {
   "codemirror_mode": {
    "name": "ipython",
    "version": 3
   },
   "file_extension": ".py",
   "mimetype": "text/x-python",
   "name": "python",
   "nbconvert_exporter": "python",
   "pygments_lexer": "ipython3",
   "version": "3.10.9"
  }
 },
 "nbformat": 4,
 "nbformat_minor": 5
}
