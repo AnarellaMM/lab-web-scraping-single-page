{
 "cells": [
  {
   "cell_type": "code",
   "execution_count": 5,
   "id": "68e71f80-50e4-45f6-a080-3289e71cb855",
   "metadata": {},
   "outputs": [],
   "source": [
    "import requests\n",
    "import pandas as pd\n",
    "from bs4 import BeautifulSoup\n",
    "\n",
    "\n",
    "response = requests.get(\"https://www.billboard.com/charts/hot-100/\")\n",
    "\n",
    "if response.status_code == 200:\n",
    "  soup = BeautifulSoup(response.content, \"html.parser\")\n",
    "  artists_99 = [element.get_text(strip=True) for element in soup.find_all(\"span\", attrs={\"class\": \"c-label a-no-trucate a-font-primary-s lrv-u-font-size-14@mobile-max u-line-height-normal@mobile-max u-letter-spacing-0021 lrv-u-display-block a-truncate-ellipsis-2line u-max-width-330 u-max-width-230@tablet-only\"})]\n",
    "  first_artist = soup.find(\"p\", attrs={\"class\": \"c-tagline a-font-primary-l a-font-primary-m@mobile-max lrv-u-color-black u-color-white@mobile-max lrv-u-margin-tb-00 lrv-u-padding-t-025 lrv-u-margin-r-150\"}).get_text(strip=True)\n",
    "  artist_names = [first_artist] + artists_99\n",
    "  songs_99 = [element.get_text(strip=True) for element in soup.find_all(\"h3\", attrs={\"class\": \"c-title a-no-trucate a-font-primary-bold-s u-letter-spacing-0021 lrv-u-font-size-18@tablet lrv-u-font-size-16 u-line-height-125 u-line-height-normal@mobile-max a-truncate-ellipsis u-max-width-330 u-max-width-230@tablet-only\"})]\n",
    "  first_song = soup.find(\"h3\", attrs={\"class\": \"c-title a-no-trucate a-font-primary-bold-s u-letter-spacing-0021 u-font-size-23@tablet lrv-u-font-size-16 u-line-height-125 u-line-height-normal@mobile-max a-truncate-ellipsis u-max-width-245 u-max-width-230@tablet-only u-letter-spacing-0028@tablet\"}).get_text(strip=True)\n",
    "  song_names = [first_song] + songs_99\n",
    "\n",
    "  bill100 = pd.DataFrame(zip(artist_names, song_names), columns=[\"Artists\", \"Songs\"])\n",
    "\n",
    "else:\n",
    "  print(\"Website not ok.\")"
   ]
  },
  {
   "cell_type": "code",
   "execution_count": 6,
   "id": "f64db373-eca9-46c5-9454-37c2013455b3",
   "metadata": {},
   "outputs": [
    {
     "name": "stdout",
     "output_type": "stream",
     "text": [
      "                                 Artists                  Songs\n",
      "0   Zach Bryan Featuring Kacey Musgraves  I Remember Everything\n",
      "1                             Luke Combs               Fast Car\n",
      "2                               Doja Cat     Paint The Town Red\n",
      "3                          Morgan Wallen             Last Night\n",
      "4                           Taylor Swift           Cruel Summer\n",
      "..                                   ...                    ...\n",
      "95                           Chris Brown         Summer Too Hot\n",
      "96                            Carin Leon           Primera Cita\n",
      "97                        Victoria Monet             On My Mama\n",
      "98                              Parmalee           Girl In Mine\n",
      "99                            Peso Pluma                Rubicon\n",
      "\n",
      "[100 rows x 2 columns]\n"
     ]
    }
   ],
   "source": [
    "print(bill100)"
   ]
  },
  {
   "cell_type": "code",
   "execution_count": null,
   "id": "6d4cc276-f182-4fc9-986d-036224e0956c",
   "metadata": {},
   "outputs": [],
   "source": []
  }
 ],
 "metadata": {
  "kernelspec": {
   "display_name": "Python 3 (ipykernel)",
   "language": "python",
   "name": "python3"
  },
  "language_info": {
   "codemirror_mode": {
    "name": "ipython",
    "version": 3
   },
   "file_extension": ".py",
   "mimetype": "text/x-python",
   "name": "python",
   "nbconvert_exporter": "python",
   "pygments_lexer": "ipython3",
   "version": "3.10.9"
  }
 },
 "nbformat": 4,
 "nbformat_minor": 5
}
